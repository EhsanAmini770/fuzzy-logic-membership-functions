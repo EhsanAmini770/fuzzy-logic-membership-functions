{
 "cells": [
  {
   "cell_type": "code",
   "execution_count": null,
   "metadata": {},
   "outputs": [],
   "source": [
    "import numpy as np\n",
    "import matplotlib.pyplot as plt\n",
    "\n",
    "# Define the range for x\n",
    "x_values = np.arange(0, 10, 0.01)\n",
    "y_values = 1 / (1 + 10 * (x_values - 5)**2)\n",
    " \n",
    "# Plot the function\n",
    "plt.figure(facecolor='lightcyan')\n",
    "plt.plot(x_values, y_values, 'b-', label='Üyelik Fonksiyonu')\n",
    "plt.xlabel('X kesin sayı uzayı')\n",
    "plt.ylabel('Üyelik Dereceleri, μ(x)')\n",
    "plt.title('5’e Yakın Sayılar Kümesi')\n",
    "plt.axvline(x=5, color='green', linestyle='--', label='Merkez (x=5)')  # Vertical line at x=5 for emphasis\n",
    "plt.grid(True)\n",
    "\n",
    "user_x = float(input(\"0-10 arası bir X değeri girin: \"))\n",
    "membership_degree = 1 / (1 + 10 * (user_x - 5)**2)\n",
    "\n",
    "# Plot the point and a horizontal line indicating the membership degree\n",
    "plt.scatter(user_x, membership_degree, color='red', zorder=5, label=f'Girilen X: {user_x}')\n",
    "plt.axhline(y=membership_degree, color='red', linestyle='--', linewidth=0.8)\n",
    "plt.axvline(x=user_x, color='red', linestyle='--', linewidth=0.8)\n",
    "\n",
    "# annotating the membership degree\n",
    "plt.annotate(f'μ({user_x}) = {membership_degree:.2f}', \n",
    "             (user_x, membership_degree), \n",
    "             textcoords=\"offset points\",\n",
    "             xytext=(10, -10), \n",
    "             ha='center', color='red')\n",
    "\n",
    "plt.legend()\n",
    "plt.show()\n",
    "\n",
    "print(\"Üyelik Derecesi:\", membership_degree)\n",
    "\n"
   ]
  }
 ],
 "metadata": {
  "kernelspec": {
   "display_name": "Python 3",
   "language": "python",
   "name": "python3"
  },
  "language_info": {
   "name": "python",
   "version": "3.12.4"
  }
 },
 "nbformat": 4,
 "nbformat_minor": 2
}
